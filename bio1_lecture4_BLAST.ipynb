{
 "cells": [
  {
   "cell_type": "markdown",
   "metadata": {},
   "source": [
    "# Using BLAST from Biopython"
   ]
  },
  {
   "cell_type": "code",
   "execution_count": null,
   "metadata": {},
   "outputs": [],
   "source": [
    "!pip install biopython\n",
    "\n",
    "# import Biopython functions\n",
    "from Bio import SeqIO\n",
    "from Bio.Blast import NCBIWWW\n",
    "from Bio.Blast import NCBIXML\n",
    "from Bio import Entrez"
   ]
  },
  {
   "cell_type": "markdown",
   "metadata": {},
   "source": [
    "## Part One - Retreiving Sequences"
   ]
  },
  {
   "cell_type": "code",
   "execution_count": null,
   "metadata": {},
   "outputs": [],
   "source": [
    "# load the DNA Sequence for RBP4\n",
    "\n",
    "gene_id = 'NM_006744.3' # human RBP4\n",
    "\n",
    "Entrez.email = 'A.N.Other@example.com'\n",
    "\n",
    "# read the first sequence\n",
    "handle = Entrez.efetch(db=\"nucleotide\", id=gene_id, rettype=\"gb\", retmode=\"text\")\n",
    "gene = SeqIO.read(handle, \"genbank\")\n",
    "handle.close()\n",
    "\n",
    "print(gene.description)"
   ]
  },
  {
   "cell_type": "code",
   "execution_count": null,
   "metadata": {},
   "outputs": [],
   "source": [
    "# this is the whole transcript\n",
    "# location of the coding sequence is here\n",
    "for f in gene.features:\n",
    "    if f.type=='CDS':\n",
    "        print('Coding sequence at:',f.location)\n",
    "        cds_loc = f.location\n"
   ]
  },
  {
   "cell_type": "code",
   "execution_count": null,
   "metadata": {},
   "outputs": [],
   "source": [
    "#knowing this work out where the 3'UTR sequence must be\n",
    "\n",
    "seq3utr = gene.seq[cds_loc.end:]\n",
    "\n",
    "print(seq3utr)\n"
   ]
  },
  {
   "cell_type": "markdown",
   "metadata": {},
   "source": [
    "## Part Two Runing BLAST and Parsing Output"
   ]
  },
  {
   "cell_type": "code",
   "execution_count": null,
   "metadata": {},
   "outputs": [],
   "source": [
    "# run a BLAST using only the 3'UTR seuence\n",
    "\n",
    "# there are several choices for the database to query:\n",
    "# nt - the full database\n",
    "# refseq_rna - Curated (NM_, NR_) plus predicted (XM_, XR_) sequences from NCBI Reference Sequence Project\n",
    "# refseq_genomic - Genomic sequences from NCBI Reference Sequence Project\n",
    "# for available databases, see:\n",
    "# ftp://ftp.ncbi.nlm.nih.gov/pub/factsheets/HowTo_BLASTGuide.pdf\n",
    "\n",
    "database = 'refseq_rna'\n",
    "result_handle = NCBIWWW.qblast(\"blastn\", database, seq3utr)\n"
   ]
  },
  {
   "cell_type": "markdown",
   "metadata": {},
   "source": [
    "NB the search above is simple, you can pass all the parameters to the search by modifying the qblast query string, for example:-\n",
    "\n",
    "> blast_handle = NCBIWWW.qblast(\"blastp\", \"nr\",\n",
    "                              peptide_seq,\n",
    "                              expect=200000.0,\n",
    "                              filter=False,\n",
    "                              word_size=2,\n",
    "                              composition_based_statistics=False,\n",
    "                              matrix_name=\"PAM30\",\n",
    "                              gapcosts=\"9 1\",\n",
    "                              hitlist_size=1000)"
   ]
  },
  {
   "cell_type": "code",
   "execution_count": null,
   "metadata": {},
   "outputs": [],
   "source": [
    "# Parse the retuned structure\n",
    "blast_records = NCBIXML.parse(result_handle)"
   ]
  },
  {
   "cell_type": "code",
   "execution_count": null,
   "metadata": {},
   "outputs": [],
   "source": [
    "# take the first record (we only did one search, so there is only one)\n",
    "item = next(blast_records)"
   ]
  },
  {
   "cell_type": "code",
   "execution_count": null,
   "metadata": {
    "scrolled": false
   },
   "outputs": [],
   "source": [
    "E_VALUE_THRESH = 1#0.05\n",
    "\n",
    "for alignment in item.alignments:\n",
    "    for hsp in alignment.hsps:\n",
    "        if hsp.expect < E_VALUE_THRESH:\n",
    "            print('****************************')\n",
    "            print('sequence:', alignment.title)\n",
    "            print('length:', alignment.length)\n",
    "            print('e value:', hsp.expect)\n",
    "            print(hsp.query[0:75] + '...')\n",
    "            print(hsp.match[0:75] + '...')\n",
    "            print(hsp.sbjct[0:75] + '...')"
   ]
  },
  {
   "cell_type": "code",
   "execution_count": null,
   "metadata": {},
   "outputs": [],
   "source": []
  }
 ],
 "metadata": {
  "kernelspec": {
   "display_name": "Python 3",
   "language": "python",
   "name": "python3"
  },
  "language_info": {
   "codemirror_mode": {
    "name": "ipython",
    "version": 3
   },
   "file_extension": ".py",
   "mimetype": "text/x-python",
   "name": "python",
   "nbconvert_exporter": "python",
   "pygments_lexer": "ipython3",
   "version": "3.7.0"
  }
 },
 "nbformat": 4,
 "nbformat_minor": 1
}
